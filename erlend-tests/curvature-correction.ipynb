{
 "cells": [
  {
   "cell_type": "code",
   "execution_count": 46,
   "metadata": {},
   "outputs": [],
   "source": [
    "import cv2\n",
    "import daria as da\n",
    "import numpy as np\n",
    "from scipy import ndimage, interpolate\n",
    "\n",
    "\n",
    "DxDy = [284, 150]\n",
    "vertical_bulge = 0.5e-6\n",
    "horizontal_crop = 0.965\n",
    "horizontal_bulge = -3.1e-6\n",
    "horizontal_stretch = 2.35e-6\n",
    "horizontal_stretch_mid = -0\n",
    "vertical_shear = 2e-3\n",
    "vertical_crop = 0.92\n",
    "\n",
    "img = cv2.imread(\"../images/originals/NonCurvCorrected.JPG\")\n",
    "\n",
    "img = cv2.resize(img, (0, 0), fx=0.2, fy=0.2)\n",
    "\n"
   ]
  },
  {
   "cell_type": "code",
   "execution_count": 47,
   "metadata": {},
   "outputs": [],
   "source": [
    "Ny, Nx, _ = img.shape\n",
    "\n",
    "img = img.astype(np.float64)\n",
    "\n",
    "# Centering image\n",
    "x = (np.array(range(1, Nx + 1)) - round(Nx / 2)) / round(Nx / 2) * DxDy[0] / 2\n",
    "y = (np.array(range(1, Ny + 1)) - round(Ny / 2)) / round(Ny / 2) * DxDy[1] / 2\n",
    "y = y.reshape((1, Ny))\n",
    "\n",
    "# Original grid\n",
    "X, Y = np.meshgrid(x, y)\n",
    "\n",
    "# Curvature corrected grid\n",
    "Xmod = horizontal_crop * np.multiply(\n",
    "    np.multiply(X, (1 + horizontal_stretch * (X - horizontal_stretch_mid) ** 2)),\n",
    "    (1 - vertical_bulge * Y**2),\n",
    ")\n",
    "Ymod = vertical_crop * (\n",
    "    np.multiply(Y, (1 - horizontal_bulge * X**2)) - vertical_shear * X\n",
    ")\n",
    "\n",
    "Xmod = Xmod*Nx/DxDy[0]+round(Nx/2)-1\n",
    "Ymod = Ymod*Ny/DxDy[1]+round(Ny/2)-1"
   ]
  },
  {
   "cell_type": "code",
   "execution_count": 43,
   "metadata": {},
   "outputs": [
    {
     "name": "stdout",
     "output_type": "stream",
     "text": [
      "[[0.0528775  0.0691068  0.07814763 0.08       0.0746639  0.06213933\n",
      "  0.0424263  0.01552481]\n",
      " [1.0052256  1.00348373 1.00174187 1.         0.99825813 0.99651627\n",
      "  0.9947744  0.99303253]\n",
      " [1.9575737  1.93786067 1.9253361  1.92       1.92185237 1.9308932\n",
      "  1.9471225  1.97054026]\n",
      " [2.90992179 2.8722376  2.84893033 2.84       2.8454466  2.86527013\n",
      "  2.89947059 2.94804799]]\n",
      "[[-37.5 -37.5 -37.5 -37.5 -37.5 -37.5 -37.5 -37.5]\n",
      " [  0.    0.    0.    0.    0.    0.    0.    0. ]\n",
      " [ 37.5  37.5  37.5  37.5  37.5  37.5  37.5  37.5]\n",
      " [ 75.   75.   75.   75.   75.   75.   75.   75. ]]\n"
     ]
    }
   ],
   "source": [
    "print(Ymod)\n",
    "print(Y)\n"
   ]
  },
  {
   "cell_type": "code",
   "execution_count": 48,
   "metadata": {},
   "outputs": [],
   "source": [
    "imgpre = img.astype(np.uint8)\n",
    "\n",
    "cv2.imshow(\"win\", imgpre)\n",
    "cv2.waitKey(0)\n",
    "cv2.destroyAllWindows()\n"
   ]
  },
  {
   "cell_type": "code",
   "execution_count": 49,
   "metadata": {},
   "outputs": [],
   "source": [
    "\n",
    "out_grid = np.array([Ymod.ravel(),Xmod.ravel()])\n",
    "img_mod = np.zeros((Ny, Nx, 3), dtype=np.uint8)\n",
    "for i in range(3):\n",
    "    in_data = img[:,:,i]\n",
    "    im_array = ndimage.map_coordinates(in_data, out_grid, order=1)\n",
    "    img_mod[:,:,i] = im_array.reshape(img[:,:,0].shape).astype(np.uint8)\n",
    "cv2.imshow(\"win\",img_mod)\n",
    "cv2.waitKey(0)\n",
    "cv2.destroyAllWindows()\n",
    "# cv2.imwrite(\"../images/modified/curvtest.jpg\", im3)"
   ]
  },
  {
   "cell_type": "code",
   "execution_count": 45,
   "metadata": {},
   "outputs": [
    {
     "name": "stdout",
     "output_type": "stream",
     "text": [
      "[[153   5   2   4   1   1   2   0]\n",
      " [  5   6   0  13  11  10  11   0]\n",
      " [ 28  21  31  17   4  17  32   0]\n",
      " [ 27  21  17  12   5   5   9   0]]\n",
      "[[167.   5.   3.   4.   1.   1.   2.   7.]\n",
      " [  5.   7.   0.  13.  11.  11.  12.  20.]\n",
      " [ 30.  22.  35.  18.   3.  19.  34.  21.]\n",
      " [ 27.  22.  15.  11.   6.   3.   7.  14.]]\n"
     ]
    }
   ],
   "source": [
    "print(im3)\n",
    "print(img[:,:,0])"
   ]
  },
  {
   "cell_type": "code",
   "execution_count": 4,
   "metadata": {},
   "outputs": [],
   "source": []
  },
  {
   "cell_type": "code",
   "execution_count": 6,
   "metadata": {},
   "outputs": [
    {
     "data": {
      "text/plain": [
       "True"
      ]
     },
     "execution_count": 6,
     "metadata": {},
     "output_type": "execute_result"
    }
   ],
   "source": [
    "\n"
   ]
  },
  {
   "cell_type": "code",
   "execution_count": 35,
   "metadata": {},
   "outputs": [
    {
     "ename": "ValueError",
     "evalue": "The points in dimension 0 must be 1-dimensional",
     "output_type": "error",
     "traceback": [
      "\u001b[0;31m---------------------------------------------------------------------------\u001b[0m",
      "\u001b[0;31mValueError\u001b[0m                                Traceback (most recent call last)",
      "\u001b[1;32m/home/erlend/src/daria/DarIA/erlend-tests/curvature-correction.ipynb Cell 4'\u001b[0m in \u001b[0;36m<cell line: 1>\u001b[0;34m()\u001b[0m\n\u001b[0;32m----> <a href='vscode-notebook-cell:/home/erlend/src/daria/DarIA/erlend-tests/curvature-correction.ipynb#ch0000002?line=0'>1</a>\u001b[0m ip0 \u001b[39m=\u001b[39m interpolate\u001b[39m.\u001b[39;49mRegularGridInterpolator((y, x), img[:, :, \u001b[39m0\u001b[39;49m])\n",
      "File \u001b[0;32m~/src/daria/venv/lib/python3.10/site-packages/scipy/interpolate/_interpolate.py:2488\u001b[0m, in \u001b[0;36mRegularGridInterpolator.__init__\u001b[0;34m(self, points, values, method, bounds_error, fill_value)\u001b[0m\n\u001b[1;32m   <a href='file:///home/erlend/src/daria/venv/lib/python3.10/site-packages/scipy/interpolate/_interpolate.py?line=2484'>2485</a>\u001b[0m     \u001b[39mraise\u001b[39;00m \u001b[39mValueError\u001b[39;00m(\u001b[39m\"\u001b[39m\u001b[39mThe points in dimension \u001b[39m\u001b[39m%d\u001b[39;00m\u001b[39m must be strictly \u001b[39m\u001b[39m\"\u001b[39m\n\u001b[1;32m   <a href='file:///home/erlend/src/daria/venv/lib/python3.10/site-packages/scipy/interpolate/_interpolate.py?line=2485'>2486</a>\u001b[0m                      \u001b[39m\"\u001b[39m\u001b[39mascending\u001b[39m\u001b[39m\"\u001b[39m \u001b[39m%\u001b[39m i)\n\u001b[1;32m   <a href='file:///home/erlend/src/daria/venv/lib/python3.10/site-packages/scipy/interpolate/_interpolate.py?line=2486'>2487</a>\u001b[0m \u001b[39mif\u001b[39;00m \u001b[39mnot\u001b[39;00m np\u001b[39m.\u001b[39masarray(p)\u001b[39m.\u001b[39mndim \u001b[39m==\u001b[39m \u001b[39m1\u001b[39m:\n\u001b[0;32m-> <a href='file:///home/erlend/src/daria/venv/lib/python3.10/site-packages/scipy/interpolate/_interpolate.py?line=2487'>2488</a>\u001b[0m     \u001b[39mraise\u001b[39;00m \u001b[39mValueError\u001b[39;00m(\u001b[39m\"\u001b[39m\u001b[39mThe points in dimension \u001b[39m\u001b[39m%d\u001b[39;00m\u001b[39m must be \u001b[39m\u001b[39m\"\u001b[39m\n\u001b[1;32m   <a href='file:///home/erlend/src/daria/venv/lib/python3.10/site-packages/scipy/interpolate/_interpolate.py?line=2488'>2489</a>\u001b[0m                      \u001b[39m\"\u001b[39m\u001b[39m1-dimensional\u001b[39m\u001b[39m\"\u001b[39m \u001b[39m%\u001b[39m i)\n\u001b[1;32m   <a href='file:///home/erlend/src/daria/venv/lib/python3.10/site-packages/scipy/interpolate/_interpolate.py?line=2489'>2490</a>\u001b[0m \u001b[39mif\u001b[39;00m \u001b[39mnot\u001b[39;00m values\u001b[39m.\u001b[39mshape[i] \u001b[39m==\u001b[39m \u001b[39mlen\u001b[39m(p):\n\u001b[1;32m   <a href='file:///home/erlend/src/daria/venv/lib/python3.10/site-packages/scipy/interpolate/_interpolate.py?line=2490'>2491</a>\u001b[0m     \u001b[39mraise\u001b[39;00m \u001b[39mValueError\u001b[39;00m(\u001b[39m\"\u001b[39m\u001b[39mThere are \u001b[39m\u001b[39m%d\u001b[39;00m\u001b[39m points and \u001b[39m\u001b[39m%d\u001b[39;00m\u001b[39m values in \u001b[39m\u001b[39m\"\u001b[39m\n\u001b[1;32m   <a href='file:///home/erlend/src/daria/venv/lib/python3.10/site-packages/scipy/interpolate/_interpolate.py?line=2491'>2492</a>\u001b[0m                      \u001b[39m\"\u001b[39m\u001b[39mdimension \u001b[39m\u001b[39m%d\u001b[39;00m\u001b[39m\"\u001b[39m \u001b[39m%\u001b[39m (\u001b[39mlen\u001b[39m(p), values\u001b[39m.\u001b[39mshape[i], i))\n",
      "\u001b[0;31mValueError\u001b[0m: The points in dimension 0 must be 1-dimensional"
     ]
    }
   ],
   "source": [
    "ip0 = interpolate.RegularGridInterpolator((y, x), img[:, :, 0])\n",
    "\n",
    "\n"
   ]
  },
  {
   "cell_type": "code",
   "execution_count": 25,
   "metadata": {},
   "outputs": [
    {
     "ename": "AttributeError",
     "evalue": "'interp2d' object has no attribute 'grid'",
     "output_type": "error",
     "traceback": [
      "\u001b[0;31m---------------------------------------------------------------------------\u001b[0m",
      "\u001b[0;31mAttributeError\u001b[0m                            Traceback (most recent call last)",
      "\u001b[1;32m/home/erlend/src/daria/DarIA/erlend-tests/curvature-correction.ipynb Cell 5'\u001b[0m in \u001b[0;36m<cell line: 1>\u001b[0;34m()\u001b[0m\n\u001b[0;32m----> <a href='vscode-notebook-cell:/home/erlend/src/daria/DarIA/erlend-tests/curvature-correction.ipynb#ch0000004?line=0'>1</a>\u001b[0m ip0\u001b[39m.\u001b[39;49mgrid(Ymod, Xmod)\n",
      "\u001b[0;31mAttributeError\u001b[0m: 'interp2d' object has no attribute 'grid'"
     ]
    }
   ],
   "source": [
    "ip0(Ymod, Xmod)"
   ]
  },
  {
   "cell_type": "code",
   "execution_count": null,
   "metadata": {},
   "outputs": [],
   "source": [
    "\n",
    "\n",
    "\n",
    "\n",
    "points = np.zeros((Ny, Nx, 2), dtype=np.float64)\n",
    "points[:, :, 0] = X\n",
    "points[:, :, 1] = Y\n",
    "\n",
    "new_points = np.zeros((Ny, Nx, 2), dtype=np.float64)\n",
    "new_points[:, :, 0] = Xmod\n",
    "new_points[:, :, 1] = Ymod\n",
    "\n",
    "\n",
    "# print(len(X.ravel()))\n",
    "# print(len(Y.ravel()))\n",
    "# print(len(img[:, :, 0].ravel()))\n",
    "\n",
    "\n",
    "# ip1 = interpolate.interp2d(x, y, img[:, :, 1])\n",
    "# ip2 = interpolate.interp2d(x, y, img[:, :, 2])\n",
    "\n",
    "# ip0 = interpolate.interpn((X.ravel(), Y.ravel()), img[:, :, 0].ravel(), (1, 1))\n",
    "\n",
    "# x = np.arange(0, 1, 0.02)\n",
    "# y = np.arange(0, 1, 0.02)\n",
    "# xx, yy = np.meshgrid(x, y)\n",
    "\n",
    "# z = np.sin(x + y)\n",
    "\n",
    "# ip = interpolate.interp2d(x, y, z)\n",
    "\n",
    "\n",
    "# ip0 = interpolate.interp2d(\n",
    "#     np.array([1, 2, 3]), np.array([1, 2, 3]), np.array([5, 6, 7])\n",
    "# )\n",
    "\n",
    "# print(ip0)\n",
    "\n",
    "\n",
    "# img_mod = np.zeros((Ny, Nx, 3), dtype=np.uint8)\n",
    "# img_mod[:, :, 0] = ip0(Xmod, Ymod)\n",
    "# img_mod[:, :, 1] = ip1(Xmod, Ymod)\n",
    "# img_mod[:, :, 2] = ip2(Xmod, Ymod)\n",
    "\n",
    "\n",
    "# img_mod = interpolate.interpn(points, img, new_points)\n",
    "\n",
    "# # for i in range(3):\n",
    "# #     print(i)\n",
    "# #     img_mod[:, :, i] = interpolate.griddata(\n",
    "# #         points.reshape(Ny * Nx, 2), img[:, :, i].reshape(Ny * Nx, 1), (Xmod, Ymod)\n",
    "# #     ).astype(np.uint8)\n",
    "\n",
    "cv2.imwrite(\"images/modified/CurvCorrected.jpg\", img_mod)"
   ]
  },
  {
   "cell_type": "code",
   "execution_count": 48,
   "metadata": {},
   "outputs": [],
   "source": [
    "from scipy.interpolate import RegularGridInterpolator\n",
    "\n",
    "def f(x, y):\n",
    "\n",
    "    return 2 * x**3 + 3 * y**2\n",
    "\n",
    "x = np.linspace(1, 4, 11)\n",
    "\n",
    "y = np.linspace(4, 7, 22)\n",
    "\n",
    "xg, yg = np.meshgrid(x, y, indexing='ij', sparse=True)\n",
    "\n",
    "data = f(xg, yg)"
   ]
  },
  {
   "cell_type": "code",
   "execution_count": 52,
   "metadata": {},
   "outputs": [],
   "source": [
    "my_interpolating_function = RegularGridInterpolator((x, y), data)"
   ]
  },
  {
   "cell_type": "code",
   "execution_count": 53,
   "metadata": {},
   "outputs": [
    {
     "name": "stderr",
     "output_type": "stream",
     "text": [
      "/home/erlend/src/daria/venv/lib/python3.10/site-packages/scipy/interpolate/_interpolate.py:2511: FutureWarning: elementwise comparison failed; returning scalar instead, but in the future will perform elementwise comparison\n",
      "  if method not in [\"linear\", \"nearest\"]:\n"
     ]
    },
    {
     "ename": "ValueError",
     "evalue": "Method '[[4.         4.14285714 4.28571429 4.42857143 4.57142857 4.71428571\n  4.85714286 5.         5.14285714 5.28571429 5.42857143 5.57142857\n  5.71428571 5.85714286 6.         6.14285714 6.28571429 6.42857143\n  6.57142857 6.71428571 6.85714286 7.        ]]' is not defined",
     "output_type": "error",
     "traceback": [
      "\u001b[0;31m---------------------------------------------------------------------------\u001b[0m",
      "\u001b[0;31mValueError\u001b[0m                                Traceback (most recent call last)",
      "\u001b[1;32m/home/erlend/src/daria/DarIA/erlend-tests/curvature-correction.ipynb Cell 10'\u001b[0m in \u001b[0;36m<cell line: 1>\u001b[0;34m()\u001b[0m\n\u001b[0;32m----> <a href='vscode-notebook-cell:/home/erlend/src/daria/DarIA/erlend-tests/curvature-correction.ipynb#ch0000009?line=0'>1</a>\u001b[0m my_interpolating_function(xg,yg)\n",
      "File \u001b[0;32m~/src/daria/venv/lib/python3.10/site-packages/scipy/interpolate/_interpolate.py:2512\u001b[0m, in \u001b[0;36mRegularGridInterpolator.__call__\u001b[0;34m(self, xi, method)\u001b[0m\n\u001b[1;32m   <a href='file:///home/erlend/src/daria/venv/lib/python3.10/site-packages/scipy/interpolate/_interpolate.py?line=2509'>2510</a>\u001b[0m method \u001b[39m=\u001b[39m \u001b[39mself\u001b[39m\u001b[39m.\u001b[39mmethod \u001b[39mif\u001b[39;00m method \u001b[39mis\u001b[39;00m \u001b[39mNone\u001b[39;00m \u001b[39melse\u001b[39;00m method\n\u001b[1;32m   <a href='file:///home/erlend/src/daria/venv/lib/python3.10/site-packages/scipy/interpolate/_interpolate.py?line=2510'>2511</a>\u001b[0m \u001b[39mif\u001b[39;00m method \u001b[39mnot\u001b[39;00m \u001b[39min\u001b[39;00m [\u001b[39m\"\u001b[39m\u001b[39mlinear\u001b[39m\u001b[39m\"\u001b[39m, \u001b[39m\"\u001b[39m\u001b[39mnearest\u001b[39m\u001b[39m\"\u001b[39m]:\n\u001b[0;32m-> <a href='file:///home/erlend/src/daria/venv/lib/python3.10/site-packages/scipy/interpolate/_interpolate.py?line=2511'>2512</a>\u001b[0m     \u001b[39mraise\u001b[39;00m \u001b[39mValueError\u001b[39;00m(\u001b[39m\"\u001b[39m\u001b[39mMethod \u001b[39m\u001b[39m'\u001b[39m\u001b[39m%s\u001b[39;00m\u001b[39m'\u001b[39m\u001b[39m is not defined\u001b[39m\u001b[39m\"\u001b[39m \u001b[39m%\u001b[39m method)\n\u001b[1;32m   <a href='file:///home/erlend/src/daria/venv/lib/python3.10/site-packages/scipy/interpolate/_interpolate.py?line=2513'>2514</a>\u001b[0m ndim \u001b[39m=\u001b[39m \u001b[39mlen\u001b[39m(\u001b[39mself\u001b[39m\u001b[39m.\u001b[39mgrid)\n\u001b[1;32m   <a href='file:///home/erlend/src/daria/venv/lib/python3.10/site-packages/scipy/interpolate/_interpolate.py?line=2514'>2515</a>\u001b[0m xi \u001b[39m=\u001b[39m _ndim_coords_from_arrays(xi, ndim\u001b[39m=\u001b[39mndim)\n",
      "\u001b[0;31mValueError\u001b[0m: Method '[[4.         4.14285714 4.28571429 4.42857143 4.57142857 4.71428571\n  4.85714286 5.         5.14285714 5.28571429 5.42857143 5.57142857\n  5.71428571 5.85714286 6.         6.14285714 6.28571429 6.42857143\n  6.57142857 6.71428571 6.85714286 7.        ]]' is not defined"
     ]
    }
   ],
   "source": [
    "my_interpolating_function(xg,yg)"
   ]
  },
  {
   "cell_type": "code",
   "execution_count": null,
   "metadata": {},
   "outputs": [],
   "source": []
  }
 ],
 "metadata": {
  "interpreter": {
   "hash": "c9538e0d4da523925da91e2b45de015d6ed5c5079305aec6828aaa7a601c063b"
  },
  "kernelspec": {
   "display_name": "Python 3.10.4 ('venv')",
   "language": "python",
   "name": "python3"
  },
  "language_info": {
   "codemirror_mode": {
    "name": "ipython",
    "version": 3
   },
   "file_extension": ".py",
   "mimetype": "text/x-python",
   "name": "python",
   "nbconvert_exporter": "python",
   "pygments_lexer": "ipython3",
   "version": "3.10.4"
  },
  "orig_nbformat": 4
 },
 "nbformat": 4,
 "nbformat_minor": 2
}
