{
 "cells": [
  {
   "cell_type": "code",
   "execution_count": 1,
   "metadata": {},
   "outputs": [],
   "source": [
    "import daria as da\n",
    "import numpy as np\n",
    "import cv2"
   ]
  },
  {
   "cell_type": "code",
   "execution_count": 7,
   "metadata": {},
   "outputs": [],
   "source": [
    "path_org_img = \"../images/originals/Baseline.jpg\"\n",
    "img = da.Image(path_org_img, width = 1000, height = 1000)"
   ]
  },
  {
   "cell_type": "code",
   "execution_count": 8,
   "metadata": {},
   "outputs": [],
   "source": [
    "grid_img = img.add_grid(origo = [0,0], dx = 10, dy = 10)\n",
    "grid_img.show()"
   ]
  },
  {
   "cell_type": "code",
   "execution_count": 13,
   "metadata": {},
   "outputs": [],
   "source": [
    "smaller_img = da.extractROI(img, [300,600], [500, 1000])\n",
    "smaller_img.show()\n"
   ]
  },
  {
   "cell_type": "code",
   "execution_count": 10,
   "metadata": {},
   "outputs": [
    {
     "data": {
      "text/plain": [
       "{'xmin': 300.0, 'xmax': 600.0, 'ymin': 500.0, 'ymax': 1000.0}"
      ]
     },
     "execution_count": 10,
     "metadata": {},
     "output_type": "execute_result"
    }
   ],
   "source": [
    "smaller_img.coordinatesystem.domain"
   ]
  },
  {
   "cell_type": "code",
   "execution_count": 11,
   "metadata": {},
   "outputs": [
    {
     "data": {
      "text/plain": [
       "(0, 0)"
      ]
     },
     "execution_count": 11,
     "metadata": {},
     "output_type": "execute_result"
    }
   ],
   "source": [
    "smaller_img.coordinatesystem.coordinateToPixel((300,1000))"
   ]
  },
  {
   "cell_type": "code",
   "execution_count": 2,
   "metadata": {},
   "outputs": [
    {
     "ename": "NameError",
     "evalue": "name 'smaller_img' is not defined",
     "output_type": "error",
     "traceback": [
      "\u001b[0;31m---------------------------------------------------------------------------\u001b[0m",
      "\u001b[0;31mNameError\u001b[0m                                 Traceback (most recent call last)",
      "\u001b[1;32m/home/erlend/src/daria/DarIA/erlend-tests/tutorial.ipynb Cell 7'\u001b[0m in \u001b[0;36m<cell line: 1>\u001b[0;34m()\u001b[0m\n\u001b[0;32m----> <a href='vscode-notebook-cell:/home/erlend/src/daria/DarIA/erlend-tests/tutorial.ipynb#ch0000006?line=0'>1</a>\u001b[0m smaller_img_grid \u001b[39m=\u001b[39m smaller_img\u001b[39m.\u001b[39madd_grid(origo \u001b[39m=\u001b[39m [\u001b[39m100\u001b[39m,\u001b[39m300\u001b[39m], dx \u001b[39m=\u001b[39m \u001b[39m10\u001b[39m, dy \u001b[39m=\u001b[39m \u001b[39m10\u001b[39m)\n\u001b[1;32m      <a href='vscode-notebook-cell:/home/erlend/src/daria/DarIA/erlend-tests/tutorial.ipynb#ch0000006?line=1'>2</a>\u001b[0m smaller_img_grid\u001b[39m.\u001b[39mshow()\n",
      "\u001b[0;31mNameError\u001b[0m: name 'smaller_img' is not defined"
     ]
    }
   ],
   "source": [
    "smaller_img_grid = smaller_img.add_grid(origo = [100,300], dx = 10, dy = 10)\n",
    "smaller_img_grid.show()"
   ]
  },
  {
   "cell_type": "code",
   "execution_count": 2,
   "metadata": {},
   "outputs": [],
   "source": [
    "curved_img = cv2.imread(\"../images/originals/NonCurvCorrected.JPG\")\n",
    "curved_img[0,0,:].size\n",
    "\n",
    "curv_da_img = da.Image(curved_img)\n"
   ]
  },
  {
   "cell_type": "code",
   "execution_count": 3,
   "metadata": {},
   "outputs": [],
   "source": [
    "curv_corrected_img = da.curvature_correction(\"../images/originals/NonCurvCorrected.JPG\")\n",
    "\n",
    "curv_corrected_da_img = da.Image(curv_corrected_img)\n"
   ]
  },
  {
   "cell_type": "code",
   "execution_count": 9,
   "metadata": {},
   "outputs": [],
   "source": [
    "curv_da_img.show()\n",
    "curv_corrected_da_img.show()\n"
   ]
  },
  {
   "cell_type": "code",
   "execution_count": null,
   "metadata": {},
   "outputs": [],
   "source": []
  }
 ],
 "metadata": {
  "interpreter": {
   "hash": "c9538e0d4da523925da91e2b45de015d6ed5c5079305aec6828aaa7a601c063b"
  },
  "kernelspec": {
   "display_name": "Python 3.10.4 ('venv')",
   "language": "python",
   "name": "python3"
  },
  "language_info": {
   "codemirror_mode": {
    "name": "ipython",
    "version": 3
   },
   "file_extension": ".py",
   "mimetype": "text/x-python",
   "name": "python",
   "nbconvert_exporter": "python",
   "pygments_lexer": "ipython3",
   "version": "3.10.4"
  },
  "orig_nbformat": 4
 },
 "nbformat": 4,
 "nbformat_minor": 2
}
